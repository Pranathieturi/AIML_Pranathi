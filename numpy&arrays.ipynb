{
 "cells": [
  {
   "cell_type": "code",
   "execution_count": 1,
   "id": "755ed8d0-317b-42a3-ac91-3372375b45fd",
   "metadata": {},
   "outputs": [],
   "source": [
    "import numpy as np"
   ]
  },
  {
   "cell_type": "code",
   "execution_count": 7,
   "id": "4b0edfd1-6fd6-4582-954c-fef48fca110c",
   "metadata": {},
   "outputs": [
    {
     "name": "stdout",
     "output_type": "stream",
     "text": [
      "['vani' '5' '7.6' '88' '33']\n",
      "<class 'numpy.ndarray'>\n",
      "<U32\n"
     ]
    }
   ],
   "source": [
    "x=np.array([\"vani\",5,7.6,88,33])\n",
    "print(x)\n",
    "print(type(x))\n",
    "print(x.dtype)"
   ]
  },
  {
   "cell_type": "code",
   "execution_count": 11,
   "id": "330add2a-c1a1-41bb-b5b1-eb234bf17cfc",
   "metadata": {},
   "outputs": [
    {
     "name": "stdout",
     "output_type": "stream",
     "text": [
      "[[ 10  30]\n",
      " [ 36 100]]\n",
      "<class 'numpy.ndarray'>\n",
      "(2, 2)\n"
     ]
    }
   ],
   "source": [
    "a=np.array([[10,30],[36,100]])\n",
    "print(a)\n",
    "print(type(a))\n",
    "print(a.shape)"
   ]
  },
  {
   "cell_type": "code",
   "execution_count": 27,
   "id": "a040d82b-c2f8-452b-920f-b6adc41058f3",
   "metadata": {},
   "outputs": [
    {
     "name": "stdout",
     "output_type": "stream",
     "text": [
      "[[10 23]\n",
      " [55 33]]\n",
      "(2, 2)\n"
     ]
    }
   ],
   "source": [
    "a=np.array([10,23,55,33])\n",
    "b=a.reshape(2,2)\n",
    "print(b)\n",
    "print(b.shape)\n"
   ]
  },
  {
   "cell_type": "code",
   "execution_count": 29,
   "id": "949f58df-6dfb-44b7-b959-bb2ee1fc5ba1",
   "metadata": {},
   "outputs": [
    {
     "name": "stdout",
     "output_type": "stream",
     "text": [
      "[ 3  4  5  6  7  8  9 10 11 12 13 14]\n"
     ]
    },
    {
     "data": {
      "text/plain": [
       "numpy.ndarray"
      ]
     },
     "execution_count": 29,
     "metadata": {},
     "output_type": "execute_result"
    }
   ],
   "source": [
    "c=np.arange(3,15)\n",
    "print(c)\n",
    "type(c)\n"
   ]
  },
  {
   "cell_type": "code",
   "execution_count": 31,
   "id": "054919c8-73fe-4cd2-bad3-589ad2883a87",
   "metadata": {},
   "outputs": [
    {
     "data": {
      "text/plain": [
       "array([1.3456473, 9.8387364, 7.65291  ])"
      ]
     },
     "execution_count": 31,
     "metadata": {},
     "output_type": "execute_result"
    }
   ],
   "source": [
    "d=np.array([1.3456473,9.8387364,7.65291])\n",
    "d"
   ]
  },
  {
   "cell_type": "code",
   "execution_count": 33,
   "id": "806c67eb-3054-4469-9f08-be71b95a93ed",
   "metadata": {},
   "outputs": [
    {
     "name": "stdout",
     "output_type": "stream",
     "text": [
      "[1.16 3.14 2.77]\n"
     ]
    }
   ],
   "source": [
    "print(np.around(np.sqrt(d),2))"
   ]
  },
  {
   "cell_type": "code",
   "execution_count": 39,
   "id": "0ccd0e5c-a9f1-4200-bd35-0fb9e3c9028d",
   "metadata": {},
   "outputs": [
    {
     "name": "stdout",
     "output_type": "stream",
     "text": [
      "[[ 3.  8.  9.  2.]\n",
      " [ 9.  7.  8. nan]]\n"
     ]
    }
   ],
   "source": [
    "t=np.array([[3,8,9,2],[9,7,8,np.NAN]])\n",
    "print(t)"
   ]
  },
  {
   "cell_type": "code",
   "execution_count": 49,
   "id": "579db5c5-b01e-4cc5-ac01-73214cbff8fe",
   "metadata": {},
   "outputs": [
    {
     "name": "stdout",
     "output_type": "stream",
     "text": [
      "[[ 3  9  2]\n",
      " [ 9  7  8]\n",
      " [ 2 34  4]]\n"
     ]
    },
    {
     "data": {
      "text/plain": [
       "numpy.ndarray"
      ]
     },
     "execution_count": 49,
     "metadata": {},
     "output_type": "execute_result"
    }
   ],
   "source": [
    "t1=np.array([[3,9,2],[9,7,8],[2,34,4]])\n",
    "print(t1)\n",
    "type(t1)"
   ]
  },
  {
   "cell_type": "code",
   "execution_count": 45,
   "id": "8e1405fe-cf6b-432e-814d-170255900941",
   "metadata": {},
   "outputs": [
    {
     "name": "stdout",
     "output_type": "stream",
     "text": [
      "[['3.0' '8.0' '9.0' '2.0']\n",
      " ['9.0' '7.0' '8.0' 'nan']]\n"
     ]
    }
   ],
   "source": [
    "tcopy=t.astype(str)\n",
    "print(tcopy)"
   ]
  },
  {
   "cell_type": "code",
   "execution_count": 51,
   "id": "4cb451f5-34b5-44e6-bb73-13a70671f54d",
   "metadata": {},
   "outputs": [
    {
     "name": "stdout",
     "output_type": "stream",
     "text": [
      "[14 24 40]\n",
      "[14 50 14]\n"
     ]
    }
   ],
   "source": [
    "print(t1.sum(axis = 1))\n",
    "print(t1.sum(axis = 0))"
   ]
  },
  {
   "cell_type": "code",
   "execution_count": 53,
   "id": "78d8bd39-cc9d-4fc1-a85b-b19b9c405085",
   "metadata": {},
   "outputs": [
    {
     "name": "stdout",
     "output_type": "stream",
     "text": [
      "[ 4.66666667  8.         13.33333333]\n",
      "[ 4.66666667 16.66666667  4.66666667]\n"
     ]
    }
   ],
   "source": [
    "print(np.mean(t1,axis = 1))\n",
    "print(np.mean(t1,axis = 0))"
   ]
  },
  {
   "cell_type": "code",
   "execution_count": 59,
   "id": "267974e7-72e3-4eb5-93f8-43b78f40ef32",
   "metadata": {},
   "outputs": [
    {
     "name": "stdout",
     "output_type": "stream",
     "text": [
      "[[ 3  9  2]\n",
      " [ 9  7  8]\n",
      " [ 2 34  4]]\n",
      "[[ 6  9  2]\n",
      " [ 9  6  8]\n",
      " [ 2 34  6]]\n"
     ]
    }
   ],
   "source": [
    "t1=np.array([[3,9,2],[9,7,8],[2,34,4]])\n",
    "print(t1)\n",
    "np.fill_diagonal(t1,6)\n",
    "print(t1)"
   ]
  },
  {
   "cell_type": "code",
   "execution_count": 65,
   "id": "52ece776-dc0e-43e4-8bbd-89ed8ede5134",
   "metadata": {},
   "outputs": [
    {
     "name": "stdout",
     "output_type": "stream",
     "text": [
      "[[42 38]\n",
      " [31 27]]\n"
     ]
    }
   ],
   "source": [
    "V=np.array([[3,4],[2,3]])\n",
    "M=np.array([[2,6],[9,5]])\n",
    "c=np.matmul(V,M)\n",
    "print(c)"
   ]
  },
  {
   "cell_type": "code",
   "execution_count": 67,
   "id": "9b61855a-e093-45a9-aac1-8e130b416814",
   "metadata": {},
   "outputs": [
    {
     "name": "stdout",
     "output_type": "stream",
     "text": [
      "[[3 2]\n",
      " [4 3]]\n",
      "[[2 9]\n",
      " [6 5]]\n"
     ]
    }
   ],
   "source": [
    "print(V.T)\n",
    "print(M.T)"
   ]
  },
  {
   "cell_type": "code",
   "execution_count": 69,
   "id": "3ab8fb51-39bb-4ec6-885f-574b6f356c5c",
   "metadata": {},
   "outputs": [
    {
     "name": "stdout",
     "output_type": "stream",
     "text": [
      "[[ 3  9  2]\n",
      " [ 9  7  8]\n",
      " [ 2 34  4]\n",
      " [ 3  4  6]]\n"
     ]
    }
   ],
   "source": [
    "t1=np.array([[3,9,2],[9,7,8],[2,34,4],[3,4,6]])\n",
    "print(t1)"
   ]
  },
  {
   "cell_type": "code",
   "execution_count": 71,
   "id": "01f68c0f-690f-4997-af1f-4585cb8d879f",
   "metadata": {},
   "outputs": [
    {
     "data": {
      "text/plain": [
       "array([[ 9,  2],\n",
       "       [ 7,  8],\n",
       "       [34,  4],\n",
       "       [ 4,  6]])"
      ]
     },
     "execution_count": 71,
     "metadata": {},
     "output_type": "execute_result"
    }
   ],
   "source": [
    " t1[:,1:]"
   ]
  },
  {
   "cell_type": "code",
   "execution_count": 81,
   "id": "3a1487e6-590a-48e4-9998-94c388005a14",
   "metadata": {},
   "outputs": [
    {
     "data": {
      "text/plain": [
       "array([[ 9,  7],\n",
       "       [ 2, 34]])"
      ]
     },
     "execution_count": 81,
     "metadata": {},
     "output_type": "execute_result"
    }
   ],
   "source": [
    "t1[1:3,0:2]"
   ]
  },
  {
   "cell_type": "code",
   "execution_count": null,
   "id": "3edfb957-9f67-4adf-810d-c53e58d79de5",
   "metadata": {},
   "outputs": [],
   "source": []
  }
 ],
 "metadata": {
  "kernelspec": {
   "display_name": "Python [conda env:base] *",
   "language": "python",
   "name": "conda-base-py"
  },
  "language_info": {
   "codemirror_mode": {
    "name": "ipython",
    "version": 3
   },
   "file_extension": ".py",
   "mimetype": "text/x-python",
   "name": "python",
   "nbconvert_exporter": "python",
   "pygments_lexer": "ipython3",
   "version": "3.12.7"
  }
 },
 "nbformat": 4,
 "nbformat_minor": 5
}
