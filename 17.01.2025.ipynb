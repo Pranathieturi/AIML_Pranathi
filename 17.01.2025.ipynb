{
  "metadata": {
    "kernelspec": {
      "name": "python",
      "display_name": "Python (Pyodide)",
      "language": "python"
    },
    "language_info": {
      "codemirror_mode": {
        "name": "python",
        "version": 3
      },
      "file_extension": ".py",
      "mimetype": "text/x-python",
      "name": "python",
      "nbconvert_exporter": "python",
      "pygments_lexer": "ipython3",
      "version": "3.8"
    }
  },
  "nbformat_minor": 4,
  "nbformat": 4,
  "cells": [
    {
      "cell_type": "code",
      "source": "#import pandas\nimport pandas as pd",
      "metadata": {
        "trusted": true
      },
      "outputs": [],
      "execution_count": 2
    },
    {
      "cell_type": "code",
      "source": "#create series using dictionary\ndata = {'a': 10, 'b':20,'c':30}\nseries = pd.Series(data)\nprint(series)",
      "metadata": {
        "trusted": true
      },
      "outputs": [
        {
          "name": "stdout",
          "output_type": "stream",
          "text": "a    10\nb    20\nc    30\ndtype: int64\n"
        }
      ],
      "execution_count": 2
    },
    {
      "cell_type": "code",
      "source": "series.replace(20,40)",
      "metadata": {
        "trusted": true
      },
      "outputs": [
        {
          "execution_count": 3,
          "output_type": "execute_result",
          "data": {
            "text/plain": "a    10\nb    40\nc    30\ndtype: int64"
          },
          "metadata": {}
        }
      ],
      "execution_count": 3
    },
    {
      "cell_type": "code",
      "source": "#CREATE SERIES USING NUMPY ARRAY\nimport numpy as np\ndata = np.array([100,200,300])\nseries = pd.Series(data, index=['a','b','c'])\nprint(series)",
      "metadata": {
        "trusted": true
      },
      "outputs": [
        {
          "name": "stdout",
          "output_type": "stream",
          "text": "a    100\nb    200\nc    300\ndtype: int32\n"
        }
      ],
      "execution_count": 4
    },
    {
      "cell_type": "code",
      "source": "#CREATE PANDAS DATAFRAME FROM DICTIONARY OF LISTS\nimport pandas as pd\ndata = {'Name':['Harsha','Rukminii','Alankritha'], 'Age':[28,27,20], 'Country':[\"Germany\",\"USA\",\"UK\"]}\ndf  = pd.DataFrame(data)\nprint(df)",
      "metadata": {
        "trusted": true
      },
      "outputs": [
        {
          "name": "stdout",
          "output_type": "stream",
          "text": "         Name  Age  Country\n0      Harsha   28  Germany\n1    Rukminii   27      USA\n2  Alankritha   20       UK\n"
        }
      ],
      "execution_count": 6
    },
    {
      "cell_type": "code",
      "source": "import numpy as np\narray = np.array([[1,2,3],[4,5,6],[7,8,9]])\nprint(array)\ndf = pd.DataFrame(array, columns=['A','B','C'])\nprint(df)",
      "metadata": {
        "trusted": true
      },
      "outputs": [
        {
          "name": "stdout",
          "output_type": "stream",
          "text": "[[1 2 3]\n [4 5 6]\n [7 8 9]]\n   A  B  C\n0  1  2  3\n1  4  5  6\n2  7  8  9\n"
        }
      ],
      "execution_count": 7
    },
    {
      "cell_type": "code",
      "source": "#Import data from a csv file and create pandas data\niris_df = pd.read_csv(\"iris.csv\")\nprint(iris_df)",
      "metadata": {
        "trusted": true
      },
      "outputs": [
        {
          "name": "stdout",
          "output_type": "stream",
          "text": "     sepal.length  sepal.width  petal.length  petal.width    variety\n0             5.1          3.5           1.4          0.2     Setosa\n1             4.9          3.0           1.4          0.2     Setosa\n2             4.7          3.2           1.3          0.2     Setosa\n3             4.6          3.1           1.5          0.2     Setosa\n4             5.0          3.6           1.4          0.2     Setosa\n..            ...          ...           ...          ...        ...\n145           6.7          3.0           5.2          2.3  Virginica\n146           6.3          2.5           5.0          1.9  Virginica\n147           6.5          3.0           5.2          2.0  Virginica\n148           6.2          3.4           5.4          2.3  Virginica\n149           5.9          3.0           5.1          1.8  Virginica\n\n[150 rows x 5 columns]\n"
        }
      ],
      "execution_count": 3
    },
    {
      "cell_type": "code",
      "source": "iris_df.info()",
      "metadata": {
        "trusted": true
      },
      "outputs": [
        {
          "name": "stdout",
          "output_type": "stream",
          "text": "<class 'pandas.core.frame.DataFrame'>\nRangeIndex: 150 entries, 0 to 149\nData columns (total 5 columns):\n #   Column        Non-Null Count  Dtype  \n---  ------        --------------  -----  \n 0   sepal.length  150 non-null    float64\n 1   sepal.width   150 non-null    float64\n 2   petal.length  150 non-null    float64\n 3   petal.width   150 non-null    float64\n 4   variety       150 non-null    object \ndtypes: float64(4), object(1)\nmemory usage: 5.3+ KB\n"
        }
      ],
      "execution_count": 4
    },
    {
      "cell_type": "code",
      "source": "iris_df.head()",
      "metadata": {
        "trusted": true
      },
      "outputs": [
        {
          "execution_count": 5,
          "output_type": "execute_result",
          "data": {
            "text/plain": "   sepal.length  sepal.width  petal.length  petal.width variety\n0           5.1          3.5           1.4          0.2  Setosa\n1           4.9          3.0           1.4          0.2  Setosa\n2           4.7          3.2           1.3          0.2  Setosa\n3           4.6          3.1           1.5          0.2  Setosa\n4           5.0          3.6           1.4          0.2  Setosa",
            "text/html": "<div>\n<style scoped>\n    .dataframe tbody tr th:only-of-type {\n        vertical-align: middle;\n    }\n\n    .dataframe tbody tr th {\n        vertical-align: top;\n    }\n\n    .dataframe thead th {\n        text-align: right;\n    }\n</style>\n<table border=\"1\" class=\"dataframe\">\n  <thead>\n    <tr style=\"text-align: right;\">\n      <th></th>\n      <th>sepal.length</th>\n      <th>sepal.width</th>\n      <th>petal.length</th>\n      <th>petal.width</th>\n      <th>variety</th>\n    </tr>\n  </thead>\n  <tbody>\n    <tr>\n      <th>0</th>\n      <td>5.1</td>\n      <td>3.5</td>\n      <td>1.4</td>\n      <td>0.2</td>\n      <td>Setosa</td>\n    </tr>\n    <tr>\n      <th>1</th>\n      <td>4.9</td>\n      <td>3.0</td>\n      <td>1.4</td>\n      <td>0.2</td>\n      <td>Setosa</td>\n    </tr>\n    <tr>\n      <th>2</th>\n      <td>4.7</td>\n      <td>3.2</td>\n      <td>1.3</td>\n      <td>0.2</td>\n      <td>Setosa</td>\n    </tr>\n    <tr>\n      <th>3</th>\n      <td>4.6</td>\n      <td>3.1</td>\n      <td>1.5</td>\n      <td>0.2</td>\n      <td>Setosa</td>\n    </tr>\n    <tr>\n      <th>4</th>\n      <td>5.0</td>\n      <td>3.6</td>\n      <td>1.4</td>\n      <td>0.2</td>\n      <td>Setosa</td>\n    </tr>\n  </tbody>\n</table>\n</div>"
          },
          "metadata": {}
        }
      ],
      "execution_count": 5
    },
    {
      "cell_type": "code",
      "source": "iris_df.describe()",
      "metadata": {
        "trusted": true
      },
      "outputs": [
        {
          "execution_count": 6,
          "output_type": "execute_result",
          "data": {
            "text/plain": "       sepal.length  sepal.width  petal.length  petal.width\ncount    150.000000   150.000000    150.000000   150.000000\nmean       5.843333     3.057333      3.758000     1.199333\nstd        0.828066     0.435866      1.765298     0.762238\nmin        4.300000     2.000000      1.000000     0.100000\n25%        5.100000     2.800000      1.600000     0.300000\n50%        5.800000     3.000000      4.350000     1.300000\n75%        6.400000     3.300000      5.100000     1.800000\nmax        7.900000     4.400000      6.900000     2.500000",
            "text/html": "<div>\n<style scoped>\n    .dataframe tbody tr th:only-of-type {\n        vertical-align: middle;\n    }\n\n    .dataframe tbody tr th {\n        vertical-align: top;\n    }\n\n    .dataframe thead th {\n        text-align: right;\n    }\n</style>\n<table border=\"1\" class=\"dataframe\">\n  <thead>\n    <tr style=\"text-align: right;\">\n      <th></th>\n      <th>sepal.length</th>\n      <th>sepal.width</th>\n      <th>petal.length</th>\n      <th>petal.width</th>\n    </tr>\n  </thead>\n  <tbody>\n    <tr>\n      <th>count</th>\n      <td>150.000000</td>\n      <td>150.000000</td>\n      <td>150.000000</td>\n      <td>150.000000</td>\n    </tr>\n    <tr>\n      <th>mean</th>\n      <td>5.843333</td>\n      <td>3.057333</td>\n      <td>3.758000</td>\n      <td>1.199333</td>\n    </tr>\n    <tr>\n      <th>std</th>\n      <td>0.828066</td>\n      <td>0.435866</td>\n      <td>1.765298</td>\n      <td>0.762238</td>\n    </tr>\n    <tr>\n      <th>min</th>\n      <td>4.300000</td>\n      <td>2.000000</td>\n      <td>1.000000</td>\n      <td>0.100000</td>\n    </tr>\n    <tr>\n      <th>25%</th>\n      <td>5.100000</td>\n      <td>2.800000</td>\n      <td>1.600000</td>\n      <td>0.300000</td>\n    </tr>\n    <tr>\n      <th>50%</th>\n      <td>5.800000</td>\n      <td>3.000000</td>\n      <td>4.350000</td>\n      <td>1.300000</td>\n    </tr>\n    <tr>\n      <th>75%</th>\n      <td>6.400000</td>\n      <td>3.300000</td>\n      <td>5.100000</td>\n      <td>1.800000</td>\n    </tr>\n    <tr>\n      <th>max</th>\n      <td>7.900000</td>\n      <td>4.400000</td>\n      <td>6.900000</td>\n      <td>2.500000</td>\n    </tr>\n  </tbody>\n</table>\n</div>"
          },
          "metadata": {}
        }
      ],
      "execution_count": 6
    },
    {
      "cell_type": "code",
      "source": "import numpy as np\niris_array = np.array(iris_df)\niris_array",
      "metadata": {
        "trusted": true
      },
      "outputs": [
        {
          "execution_count": 7,
          "output_type": "execute_result",
          "data": {
            "text/plain": "array([[5.1, 3.5, 1.4, 0.2, 'Setosa'],\n       [4.9, 3.0, 1.4, 0.2, 'Setosa'],\n       [4.7, 3.2, 1.3, 0.2, 'Setosa'],\n       [4.6, 3.1, 1.5, 0.2, 'Setosa'],\n       [5.0, 3.6, 1.4, 0.2, 'Setosa'],\n       [5.4, 3.9, 1.7, 0.4, 'Setosa'],\n       [4.6, 3.4, 1.4, 0.3, 'Setosa'],\n       [5.0, 3.4, 1.5, 0.2, 'Setosa'],\n       [4.4, 2.9, 1.4, 0.2, 'Setosa'],\n       [4.9, 3.1, 1.5, 0.1, 'Setosa'],\n       [5.4, 3.7, 1.5, 0.2, 'Setosa'],\n       [4.8, 3.4, 1.6, 0.2, 'Setosa'],\n       [4.8, 3.0, 1.4, 0.1, 'Setosa'],\n       [4.3, 3.0, 1.1, 0.1, 'Setosa'],\n       [5.8, 4.0, 1.2, 0.2, 'Setosa'],\n       [5.7, 4.4, 1.5, 0.4, 'Setosa'],\n       [5.4, 3.9, 1.3, 0.4, 'Setosa'],\n       [5.1, 3.5, 1.4, 0.3, 'Setosa'],\n       [5.7, 3.8, 1.7, 0.3, 'Setosa'],\n       [5.1, 3.8, 1.5, 0.3, 'Setosa'],\n       [5.4, 3.4, 1.7, 0.2, 'Setosa'],\n       [5.1, 3.7, 1.5, 0.4, 'Setosa'],\n       [4.6, 3.6, 1.0, 0.2, 'Setosa'],\n       [5.1, 3.3, 1.7, 0.5, 'Setosa'],\n       [4.8, 3.4, 1.9, 0.2, 'Setosa'],\n       [5.0, 3.0, 1.6, 0.2, 'Setosa'],\n       [5.0, 3.4, 1.6, 0.4, 'Setosa'],\n       [5.2, 3.5, 1.5, 0.2, 'Setosa'],\n       [5.2, 3.4, 1.4, 0.2, 'Setosa'],\n       [4.7, 3.2, 1.6, 0.2, 'Setosa'],\n       [4.8, 3.1, 1.6, 0.2, 'Setosa'],\n       [5.4, 3.4, 1.5, 0.4, 'Setosa'],\n       [5.2, 4.1, 1.5, 0.1, 'Setosa'],\n       [5.5, 4.2, 1.4, 0.2, 'Setosa'],\n       [4.9, 3.1, 1.5, 0.2, 'Setosa'],\n       [5.0, 3.2, 1.2, 0.2, 'Setosa'],\n       [5.5, 3.5, 1.3, 0.2, 'Setosa'],\n       [4.9, 3.6, 1.4, 0.1, 'Setosa'],\n       [4.4, 3.0, 1.3, 0.2, 'Setosa'],\n       [5.1, 3.4, 1.5, 0.2, 'Setosa'],\n       [5.0, 3.5, 1.3, 0.3, 'Setosa'],\n       [4.5, 2.3, 1.3, 0.3, 'Setosa'],\n       [4.4, 3.2, 1.3, 0.2, 'Setosa'],\n       [5.0, 3.5, 1.6, 0.6, 'Setosa'],\n       [5.1, 3.8, 1.9, 0.4, 'Setosa'],\n       [4.8, 3.0, 1.4, 0.3, 'Setosa'],\n       [5.1, 3.8, 1.6, 0.2, 'Setosa'],\n       [4.6, 3.2, 1.4, 0.2, 'Setosa'],\n       [5.3, 3.7, 1.5, 0.2, 'Setosa'],\n       [5.0, 3.3, 1.4, 0.2, 'Setosa'],\n       [7.0, 3.2, 4.7, 1.4, 'Versicolor'],\n       [6.4, 3.2, 4.5, 1.5, 'Versicolor'],\n       [6.9, 3.1, 4.9, 1.5, 'Versicolor'],\n       [5.5, 2.3, 4.0, 1.3, 'Versicolor'],\n       [6.5, 2.8, 4.6, 1.5, 'Versicolor'],\n       [5.7, 2.8, 4.5, 1.3, 'Versicolor'],\n       [6.3, 3.3, 4.7, 1.6, 'Versicolor'],\n       [4.9, 2.4, 3.3, 1.0, 'Versicolor'],\n       [6.6, 2.9, 4.6, 1.3, 'Versicolor'],\n       [5.2, 2.7, 3.9, 1.4, 'Versicolor'],\n       [5.0, 2.0, 3.5, 1.0, 'Versicolor'],\n       [5.9, 3.0, 4.2, 1.5, 'Versicolor'],\n       [6.0, 2.2, 4.0, 1.0, 'Versicolor'],\n       [6.1, 2.9, 4.7, 1.4, 'Versicolor'],\n       [5.6, 2.9, 3.6, 1.3, 'Versicolor'],\n       [6.7, 3.1, 4.4, 1.4, 'Versicolor'],\n       [5.6, 3.0, 4.5, 1.5, 'Versicolor'],\n       [5.8, 2.7, 4.1, 1.0, 'Versicolor'],\n       [6.2, 2.2, 4.5, 1.5, 'Versicolor'],\n       [5.6, 2.5, 3.9, 1.1, 'Versicolor'],\n       [5.9, 3.2, 4.8, 1.8, 'Versicolor'],\n       [6.1, 2.8, 4.0, 1.3, 'Versicolor'],\n       [6.3, 2.5, 4.9, 1.5, 'Versicolor'],\n       [6.1, 2.8, 4.7, 1.2, 'Versicolor'],\n       [6.4, 2.9, 4.3, 1.3, 'Versicolor'],\n       [6.6, 3.0, 4.4, 1.4, 'Versicolor'],\n       [6.8, 2.8, 4.8, 1.4, 'Versicolor'],\n       [6.7, 3.0, 5.0, 1.7, 'Versicolor'],\n       [6.0, 2.9, 4.5, 1.5, 'Versicolor'],\n       [5.7, 2.6, 3.5, 1.0, 'Versicolor'],\n       [5.5, 2.4, 3.8, 1.1, 'Versicolor'],\n       [5.5, 2.4, 3.7, 1.0, 'Versicolor'],\n       [5.8, 2.7, 3.9, 1.2, 'Versicolor'],\n       [6.0, 2.7, 5.1, 1.6, 'Versicolor'],\n       [5.4, 3.0, 4.5, 1.5, 'Versicolor'],\n       [6.0, 3.4, 4.5, 1.6, 'Versicolor'],\n       [6.7, 3.1, 4.7, 1.5, 'Versicolor'],\n       [6.3, 2.3, 4.4, 1.3, 'Versicolor'],\n       [5.6, 3.0, 4.1, 1.3, 'Versicolor'],\n       [5.5, 2.5, 4.0, 1.3, 'Versicolor'],\n       [5.5, 2.6, 4.4, 1.2, 'Versicolor'],\n       [6.1, 3.0, 4.6, 1.4, 'Versicolor'],\n       [5.8, 2.6, 4.0, 1.2, 'Versicolor'],\n       [5.0, 2.3, 3.3, 1.0, 'Versicolor'],\n       [5.6, 2.7, 4.2, 1.3, 'Versicolor'],\n       [5.7, 3.0, 4.2, 1.2, 'Versicolor'],\n       [5.7, 2.9, 4.2, 1.3, 'Versicolor'],\n       [6.2, 2.9, 4.3, 1.3, 'Versicolor'],\n       [5.1, 2.5, 3.0, 1.1, 'Versicolor'],\n       [5.7, 2.8, 4.1, 1.3, 'Versicolor'],\n       [6.3, 3.3, 6.0, 2.5, 'Virginica'],\n       [5.8, 2.7, 5.1, 1.9, 'Virginica'],\n       [7.1, 3.0, 5.9, 2.1, 'Virginica'],\n       [6.3, 2.9, 5.6, 1.8, 'Virginica'],\n       [6.5, 3.0, 5.8, 2.2, 'Virginica'],\n       [7.6, 3.0, 6.6, 2.1, 'Virginica'],\n       [4.9, 2.5, 4.5, 1.7, 'Virginica'],\n       [7.3, 2.9, 6.3, 1.8, 'Virginica'],\n       [6.7, 2.5, 5.8, 1.8, 'Virginica'],\n       [7.2, 3.6, 6.1, 2.5, 'Virginica'],\n       [6.5, 3.2, 5.1, 2.0, 'Virginica'],\n       [6.4, 2.7, 5.3, 1.9, 'Virginica'],\n       [6.8, 3.0, 5.5, 2.1, 'Virginica'],\n       [5.7, 2.5, 5.0, 2.0, 'Virginica'],\n       [5.8, 2.8, 5.1, 2.4, 'Virginica'],\n       [6.4, 3.2, 5.3, 2.3, 'Virginica'],\n       [6.5, 3.0, 5.5, 1.8, 'Virginica'],\n       [7.7, 3.8, 6.7, 2.2, 'Virginica'],\n       [7.7, 2.6, 6.9, 2.3, 'Virginica'],\n       [6.0, 2.2, 5.0, 1.5, 'Virginica'],\n       [6.9, 3.2, 5.7, 2.3, 'Virginica'],\n       [5.6, 2.8, 4.9, 2.0, 'Virginica'],\n       [7.7, 2.8, 6.7, 2.0, 'Virginica'],\n       [6.3, 2.7, 4.9, 1.8, 'Virginica'],\n       [6.7, 3.3, 5.7, 2.1, 'Virginica'],\n       [7.2, 3.2, 6.0, 1.8, 'Virginica'],\n       [6.2, 2.8, 4.8, 1.8, 'Virginica'],\n       [6.1, 3.0, 4.9, 1.8, 'Virginica'],\n       [6.4, 2.8, 5.6, 2.1, 'Virginica'],\n       [7.2, 3.0, 5.8, 1.6, 'Virginica'],\n       [7.4, 2.8, 6.1, 1.9, 'Virginica'],\n       [7.9, 3.8, 6.4, 2.0, 'Virginica'],\n       [6.4, 2.8, 5.6, 2.2, 'Virginica'],\n       [6.3, 2.8, 5.1, 1.5, 'Virginica'],\n       [6.1, 2.6, 5.6, 1.4, 'Virginica'],\n       [7.7, 3.0, 6.1, 2.3, 'Virginica'],\n       [6.3, 3.4, 5.6, 2.4, 'Virginica'],\n       [6.4, 3.1, 5.5, 1.8, 'Virginica'],\n       [6.0, 3.0, 4.8, 1.8, 'Virginica'],\n       [6.9, 3.1, 5.4, 2.1, 'Virginica'],\n       [6.7, 3.1, 5.6, 2.4, 'Virginica'],\n       [6.9, 3.1, 5.1, 2.3, 'Virginica'],\n       [5.8, 2.7, 5.1, 1.9, 'Virginica'],\n       [6.8, 3.2, 5.9, 2.3, 'Virginica'],\n       [6.7, 3.3, 5.7, 2.5, 'Virginica'],\n       [6.7, 3.0, 5.2, 2.3, 'Virginica'],\n       [6.3, 2.5, 5.0, 1.9, 'Virginica'],\n       [6.5, 3.0, 5.2, 2.0, 'Virginica'],\n       [6.2, 3.4, 5.4, 2.3, 'Virginica'],\n       [5.9, 3.0, 5.1, 1.8, 'Virginica']], dtype=object)"
          },
          "metadata": {}
        }
      ],
      "execution_count": 7
    },
    {
      "cell_type": "code",
      "source": "#print rows with index range 10 - 20\niris_df.iloc[10:21,:]",
      "metadata": {
        "trusted": true,
        "scrolled": true
      },
      "outputs": [
        {
          "execution_count": 8,
          "output_type": "execute_result",
          "data": {
            "text/plain": "    sepal.length  sepal.width  petal.length  petal.width variety\n10           5.4          3.7           1.5          0.2  Setosa\n11           4.8          3.4           1.6          0.2  Setosa\n12           4.8          3.0           1.4          0.1  Setosa\n13           4.3          3.0           1.1          0.1  Setosa\n14           5.8          4.0           1.2          0.2  Setosa\n15           5.7          4.4           1.5          0.4  Setosa\n16           5.4          3.9           1.3          0.4  Setosa\n17           5.1          3.5           1.4          0.3  Setosa\n18           5.7          3.8           1.7          0.3  Setosa\n19           5.1          3.8           1.5          0.3  Setosa\n20           5.4          3.4           1.7          0.2  Setosa",
            "text/html": "<div>\n<style scoped>\n    .dataframe tbody tr th:only-of-type {\n        vertical-align: middle;\n    }\n\n    .dataframe tbody tr th {\n        vertical-align: top;\n    }\n\n    .dataframe thead th {\n        text-align: right;\n    }\n</style>\n<table border=\"1\" class=\"dataframe\">\n  <thead>\n    <tr style=\"text-align: right;\">\n      <th></th>\n      <th>sepal.length</th>\n      <th>sepal.width</th>\n      <th>petal.length</th>\n      <th>petal.width</th>\n      <th>variety</th>\n    </tr>\n  </thead>\n  <tbody>\n    <tr>\n      <th>10</th>\n      <td>5.4</td>\n      <td>3.7</td>\n      <td>1.5</td>\n      <td>0.2</td>\n      <td>Setosa</td>\n    </tr>\n    <tr>\n      <th>11</th>\n      <td>4.8</td>\n      <td>3.4</td>\n      <td>1.6</td>\n      <td>0.2</td>\n      <td>Setosa</td>\n    </tr>\n    <tr>\n      <th>12</th>\n      <td>4.8</td>\n      <td>3.0</td>\n      <td>1.4</td>\n      <td>0.1</td>\n      <td>Setosa</td>\n    </tr>\n    <tr>\n      <th>13</th>\n      <td>4.3</td>\n      <td>3.0</td>\n      <td>1.1</td>\n      <td>0.1</td>\n      <td>Setosa</td>\n    </tr>\n    <tr>\n      <th>14</th>\n      <td>5.8</td>\n      <td>4.0</td>\n      <td>1.2</td>\n      <td>0.2</td>\n      <td>Setosa</td>\n    </tr>\n    <tr>\n      <th>15</th>\n      <td>5.7</td>\n      <td>4.4</td>\n      <td>1.5</td>\n      <td>0.4</td>\n      <td>Setosa</td>\n    </tr>\n    <tr>\n      <th>16</th>\n      <td>5.4</td>\n      <td>3.9</td>\n      <td>1.3</td>\n      <td>0.4</td>\n      <td>Setosa</td>\n    </tr>\n    <tr>\n      <th>17</th>\n      <td>5.1</td>\n      <td>3.5</td>\n      <td>1.4</td>\n      <td>0.3</td>\n      <td>Setosa</td>\n    </tr>\n    <tr>\n      <th>18</th>\n      <td>5.7</td>\n      <td>3.8</td>\n      <td>1.7</td>\n      <td>0.3</td>\n      <td>Setosa</td>\n    </tr>\n    <tr>\n      <th>19</th>\n      <td>5.1</td>\n      <td>3.8</td>\n      <td>1.5</td>\n      <td>0.3</td>\n      <td>Setosa</td>\n    </tr>\n    <tr>\n      <th>20</th>\n      <td>5.4</td>\n      <td>3.4</td>\n      <td>1.7</td>\n      <td>0.2</td>\n      <td>Setosa</td>\n    </tr>\n  </tbody>\n</table>\n</div>"
          },
          "metadata": {}
        }
      ],
      "execution_count": 8
    },
    {
      "cell_type": "code",
      "source": "#print rows 15 to 20c cols. sepal length and petal width\niris_df.iloc[15:20,[0,3]]",
      "metadata": {
        "trusted": true
      },
      "outputs": [
        {
          "execution_count": 12,
          "output_type": "execute_result",
          "data": {
            "text/plain": "    sepal.length  petal.width\n15           5.7          0.4\n16           5.4          0.4\n17           5.1          0.3\n18           5.7          0.3\n19           5.1          0.3",
            "text/html": "<div>\n<style scoped>\n    .dataframe tbody tr th:only-of-type {\n        vertical-align: middle;\n    }\n\n    .dataframe tbody tr th {\n        vertical-align: top;\n    }\n\n    .dataframe thead th {\n        text-align: right;\n    }\n</style>\n<table border=\"1\" class=\"dataframe\">\n  <thead>\n    <tr style=\"text-align: right;\">\n      <th></th>\n      <th>sepal.length</th>\n      <th>petal.width</th>\n    </tr>\n  </thead>\n  <tbody>\n    <tr>\n      <th>15</th>\n      <td>5.7</td>\n      <td>0.4</td>\n    </tr>\n    <tr>\n      <th>16</th>\n      <td>5.4</td>\n      <td>0.4</td>\n    </tr>\n    <tr>\n      <th>17</th>\n      <td>5.1</td>\n      <td>0.3</td>\n    </tr>\n    <tr>\n      <th>18</th>\n      <td>5.7</td>\n      <td>0.3</td>\n    </tr>\n    <tr>\n      <th>19</th>\n      <td>5.1</td>\n      <td>0.3</td>\n    </tr>\n  </tbody>\n</table>\n</div>"
          },
          "metadata": {}
        }
      ],
      "execution_count": 12
    },
    {
      "cell_type": "code",
      "source": "#use of loc() with names\niris_df.loc[10:20,\"sepal.length\":\"petal.length\"]",
      "metadata": {
        "trusted": true
      },
      "outputs": [
        {
          "execution_count": 14,
          "output_type": "execute_result",
          "data": {
            "text/plain": "    sepal.length  sepal.width  petal.length\n10           5.4          3.7           1.5\n11           4.8          3.4           1.6\n12           4.8          3.0           1.4\n13           4.3          3.0           1.1\n14           5.8          4.0           1.2\n15           5.7          4.4           1.5\n16           5.4          3.9           1.3\n17           5.1          3.5           1.4\n18           5.7          3.8           1.7\n19           5.1          3.8           1.5\n20           5.4          3.4           1.7",
            "text/html": "<div>\n<style scoped>\n    .dataframe tbody tr th:only-of-type {\n        vertical-align: middle;\n    }\n\n    .dataframe tbody tr th {\n        vertical-align: top;\n    }\n\n    .dataframe thead th {\n        text-align: right;\n    }\n</style>\n<table border=\"1\" class=\"dataframe\">\n  <thead>\n    <tr style=\"text-align: right;\">\n      <th></th>\n      <th>sepal.length</th>\n      <th>sepal.width</th>\n      <th>petal.length</th>\n    </tr>\n  </thead>\n  <tbody>\n    <tr>\n      <th>10</th>\n      <td>5.4</td>\n      <td>3.7</td>\n      <td>1.5</td>\n    </tr>\n    <tr>\n      <th>11</th>\n      <td>4.8</td>\n      <td>3.4</td>\n      <td>1.6</td>\n    </tr>\n    <tr>\n      <th>12</th>\n      <td>4.8</td>\n      <td>3.0</td>\n      <td>1.4</td>\n    </tr>\n    <tr>\n      <th>13</th>\n      <td>4.3</td>\n      <td>3.0</td>\n      <td>1.1</td>\n    </tr>\n    <tr>\n      <th>14</th>\n      <td>5.8</td>\n      <td>4.0</td>\n      <td>1.2</td>\n    </tr>\n    <tr>\n      <th>15</th>\n      <td>5.7</td>\n      <td>4.4</td>\n      <td>1.5</td>\n    </tr>\n    <tr>\n      <th>16</th>\n      <td>5.4</td>\n      <td>3.9</td>\n      <td>1.3</td>\n    </tr>\n    <tr>\n      <th>17</th>\n      <td>5.1</td>\n      <td>3.5</td>\n      <td>1.4</td>\n    </tr>\n    <tr>\n      <th>18</th>\n      <td>5.7</td>\n      <td>3.8</td>\n      <td>1.7</td>\n    </tr>\n    <tr>\n      <th>19</th>\n      <td>5.1</td>\n      <td>3.8</td>\n      <td>1.5</td>\n    </tr>\n    <tr>\n      <th>20</th>\n      <td>5.4</td>\n      <td>3.4</td>\n      <td>1.7</td>\n    </tr>\n  </tbody>\n</table>\n</div>"
          },
          "metadata": {}
        }
      ],
      "execution_count": 14
    },
    {
      "cell_type": "code",
      "source": "iris_df.loc[[10,15,20],\"sepal.length\":\"petal.length\"]",
      "metadata": {
        "trusted": true
      },
      "outputs": [
        {
          "execution_count": 15,
          "output_type": "execute_result",
          "data": {
            "text/plain": "    sepal.length  sepal.width  petal.length\n10           5.4          3.7           1.5\n15           5.7          4.4           1.5\n20           5.4          3.4           1.7",
            "text/html": "<div>\n<style scoped>\n    .dataframe tbody tr th:only-of-type {\n        vertical-align: middle;\n    }\n\n    .dataframe tbody tr th {\n        vertical-align: top;\n    }\n\n    .dataframe thead th {\n        text-align: right;\n    }\n</style>\n<table border=\"1\" class=\"dataframe\">\n  <thead>\n    <tr style=\"text-align: right;\">\n      <th></th>\n      <th>sepal.length</th>\n      <th>sepal.width</th>\n      <th>petal.length</th>\n    </tr>\n  </thead>\n  <tbody>\n    <tr>\n      <th>10</th>\n      <td>5.4</td>\n      <td>3.7</td>\n      <td>1.5</td>\n    </tr>\n    <tr>\n      <th>15</th>\n      <td>5.7</td>\n      <td>4.4</td>\n      <td>1.5</td>\n    </tr>\n    <tr>\n      <th>20</th>\n      <td>5.4</td>\n      <td>3.4</td>\n      <td>1.7</td>\n    </tr>\n  </tbody>\n</table>\n</div>"
          },
          "metadata": {}
        }
      ],
      "execution_count": 15
    },
    {
      "cell_type": "code",
      "source": "#CREATE A DATAFRAME WITH THE ARRAY\ndata = {\"weight\":[66,75,84,96,48,71] , \"height\":[156,165,186,165,174,167]}\nbmi = pd.DataFrame(data)\nbmi",
      "metadata": {
        "trusted": true
      },
      "outputs": [
        {
          "execution_count": 17,
          "output_type": "execute_result",
          "data": {
            "text/plain": "   weight  height\n0      66     156\n1      75     165\n2      84     186\n3      96     165\n4      48     174\n5      71     167",
            "text/html": "<div>\n<style scoped>\n    .dataframe tbody tr th:only-of-type {\n        vertical-align: middle;\n    }\n\n    .dataframe tbody tr th {\n        vertical-align: top;\n    }\n\n    .dataframe thead th {\n        text-align: right;\n    }\n</style>\n<table border=\"1\" class=\"dataframe\">\n  <thead>\n    <tr style=\"text-align: right;\">\n      <th></th>\n      <th>weight</th>\n      <th>height</th>\n    </tr>\n  </thead>\n  <tbody>\n    <tr>\n      <th>0</th>\n      <td>66</td>\n      <td>156</td>\n    </tr>\n    <tr>\n      <th>1</th>\n      <td>75</td>\n      <td>165</td>\n    </tr>\n    <tr>\n      <th>2</th>\n      <td>84</td>\n      <td>186</td>\n    </tr>\n    <tr>\n      <th>3</th>\n      <td>96</td>\n      <td>165</td>\n    </tr>\n    <tr>\n      <th>4</th>\n      <td>48</td>\n      <td>174</td>\n    </tr>\n    <tr>\n      <th>5</th>\n      <td>71</td>\n      <td>167</td>\n    </tr>\n  </tbody>\n</table>\n</div>"
          },
          "metadata": {}
        }
      ],
      "execution_count": 17
    },
    {
      "cell_type": "code",
      "source": "bmi[\"BMI\"]=bmi[\"weight\"]/(bmi[\"height\"]/100)**2\nbmi",
      "metadata": {
        "trusted": true
      },
      "outputs": [
        {
          "execution_count": 22,
          "output_type": "execute_result",
          "data": {
            "text/plain": "   weight  height        BMI\n0      66     156  27.120316\n1      75     165  27.548209\n2      84     186  24.280264\n3      96     165  35.261708\n4      48     174  15.854142\n5      71     167  25.458066",
            "text/html": "<div>\n<style scoped>\n    .dataframe tbody tr th:only-of-type {\n        vertical-align: middle;\n    }\n\n    .dataframe tbody tr th {\n        vertical-align: top;\n    }\n\n    .dataframe thead th {\n        text-align: right;\n    }\n</style>\n<table border=\"1\" class=\"dataframe\">\n  <thead>\n    <tr style=\"text-align: right;\">\n      <th></th>\n      <th>weight</th>\n      <th>height</th>\n      <th>BMI</th>\n    </tr>\n  </thead>\n  <tbody>\n    <tr>\n      <th>0</th>\n      <td>66</td>\n      <td>156</td>\n      <td>27.120316</td>\n    </tr>\n    <tr>\n      <th>1</th>\n      <td>75</td>\n      <td>165</td>\n      <td>27.548209</td>\n    </tr>\n    <tr>\n      <th>2</th>\n      <td>84</td>\n      <td>186</td>\n      <td>24.280264</td>\n    </tr>\n    <tr>\n      <th>3</th>\n      <td>96</td>\n      <td>165</td>\n      <td>35.261708</td>\n    </tr>\n    <tr>\n      <th>4</th>\n      <td>48</td>\n      <td>174</td>\n      <td>15.854142</td>\n    </tr>\n    <tr>\n      <th>5</th>\n      <td>71</td>\n      <td>167</td>\n      <td>25.458066</td>\n    </tr>\n  </tbody>\n</table>\n</div>"
          },
          "metadata": {}
        }
      ],
      "execution_count": 22
    },
    {
      "cell_type": "code",
      "source": "import numpy as np\nbmi.loc[3] = [76,np.nan,np.nan]\nbmi",
      "metadata": {
        "trusted": true
      },
      "outputs": [
        {
          "execution_count": 23,
          "output_type": "execute_result",
          "data": {
            "text/plain": "   weight  height        BMI\n0      66   156.0  27.120316\n1      75   165.0  27.548209\n2      84   186.0  24.280264\n3      76     NaN        NaN\n4      48   174.0  15.854142\n5      71   167.0  25.458066",
            "text/html": "<div>\n<style scoped>\n    .dataframe tbody tr th:only-of-type {\n        vertical-align: middle;\n    }\n\n    .dataframe tbody tr th {\n        vertical-align: top;\n    }\n\n    .dataframe thead th {\n        text-align: right;\n    }\n</style>\n<table border=\"1\" class=\"dataframe\">\n  <thead>\n    <tr style=\"text-align: right;\">\n      <th></th>\n      <th>weight</th>\n      <th>height</th>\n      <th>BMI</th>\n    </tr>\n  </thead>\n  <tbody>\n    <tr>\n      <th>0</th>\n      <td>66</td>\n      <td>156.0</td>\n      <td>27.120316</td>\n    </tr>\n    <tr>\n      <th>1</th>\n      <td>75</td>\n      <td>165.0</td>\n      <td>27.548209</td>\n    </tr>\n    <tr>\n      <th>2</th>\n      <td>84</td>\n      <td>186.0</td>\n      <td>24.280264</td>\n    </tr>\n    <tr>\n      <th>3</th>\n      <td>76</td>\n      <td>NaN</td>\n      <td>NaN</td>\n    </tr>\n    <tr>\n      <th>4</th>\n      <td>48</td>\n      <td>174.0</td>\n      <td>15.854142</td>\n    </tr>\n    <tr>\n      <th>5</th>\n      <td>71</td>\n      <td>167.0</td>\n      <td>25.458066</td>\n    </tr>\n  </tbody>\n</table>\n</div>"
          },
          "metadata": {}
        }
      ],
      "execution_count": 23
    },
    {
      "cell_type": "code",
      "source": "bmi.isnull().sum()",
      "metadata": {
        "trusted": true
      },
      "outputs": [
        {
          "execution_count": 24,
          "output_type": "execute_result",
          "data": {
            "text/plain": "weight    0\nheight    1\nBMI       1\ndtype: int64"
          },
          "metadata": {}
        }
      ],
      "execution_count": 24
    },
    {
      "cell_type": "code",
      "source": "bmi[\"height\"] = bmi[\"height\"].fillna(165)\nbmi",
      "metadata": {
        "trusted": true
      },
      "outputs": [
        {
          "execution_count": 30,
          "output_type": "execute_result",
          "data": {
            "text/plain": "   weight  height        BMI\n0      66   156.0  27.120316\n1      75   165.0  27.548209\n2      84   186.0  24.280264\n3      76    75.0        NaN\n4      48   174.0  15.854142\n5      71   167.0  25.458066",
            "text/html": "<div>\n<style scoped>\n    .dataframe tbody tr th:only-of-type {\n        vertical-align: middle;\n    }\n\n    .dataframe tbody tr th {\n        vertical-align: top;\n    }\n\n    .dataframe thead th {\n        text-align: right;\n    }\n</style>\n<table border=\"1\" class=\"dataframe\">\n  <thead>\n    <tr style=\"text-align: right;\">\n      <th></th>\n      <th>weight</th>\n      <th>height</th>\n      <th>BMI</th>\n    </tr>\n  </thead>\n  <tbody>\n    <tr>\n      <th>0</th>\n      <td>66</td>\n      <td>156.0</td>\n      <td>27.120316</td>\n    </tr>\n    <tr>\n      <th>1</th>\n      <td>75</td>\n      <td>165.0</td>\n      <td>27.548209</td>\n    </tr>\n    <tr>\n      <th>2</th>\n      <td>84</td>\n      <td>186.0</td>\n      <td>24.280264</td>\n    </tr>\n    <tr>\n      <th>3</th>\n      <td>76</td>\n      <td>75.0</td>\n      <td>NaN</td>\n    </tr>\n    <tr>\n      <th>4</th>\n      <td>48</td>\n      <td>174.0</td>\n      <td>15.854142</td>\n    </tr>\n    <tr>\n      <th>5</th>\n      <td>71</td>\n      <td>167.0</td>\n      <td>25.458066</td>\n    </tr>\n  </tbody>\n</table>\n</div>"
          },
          "metadata": {}
        }
      ],
      "execution_count": 30
    },
    {
      "cell_type": "code",
      "source": "bmi.drop(\"BMI\", axis = 1)",
      "metadata": {
        "trusted": true
      },
      "outputs": [
        {
          "execution_count": 34,
          "output_type": "execute_result",
          "data": {
            "text/plain": "   weight  height\n0      66   156.0\n1      75   165.0\n2      84   186.0\n3      76    75.0\n4      48   174.0\n5      71   167.0",
            "text/html": "<div>\n<style scoped>\n    .dataframe tbody tr th:only-of-type {\n        vertical-align: middle;\n    }\n\n    .dataframe tbody tr th {\n        vertical-align: top;\n    }\n\n    .dataframe thead th {\n        text-align: right;\n    }\n</style>\n<table border=\"1\" class=\"dataframe\">\n  <thead>\n    <tr style=\"text-align: right;\">\n      <th></th>\n      <th>weight</th>\n      <th>height</th>\n    </tr>\n  </thead>\n  <tbody>\n    <tr>\n      <th>0</th>\n      <td>66</td>\n      <td>156.0</td>\n    </tr>\n    <tr>\n      <th>1</th>\n      <td>75</td>\n      <td>165.0</td>\n    </tr>\n    <tr>\n      <th>2</th>\n      <td>84</td>\n      <td>186.0</td>\n    </tr>\n    <tr>\n      <th>3</th>\n      <td>76</td>\n      <td>75.0</td>\n    </tr>\n    <tr>\n      <th>4</th>\n      <td>48</td>\n      <td>174.0</td>\n    </tr>\n    <tr>\n      <th>5</th>\n      <td>71</td>\n      <td>167.0</td>\n    </tr>\n  </tbody>\n</table>\n</div>"
          },
          "metadata": {}
        }
      ],
      "execution_count": 34
    },
    {
      "cell_type": "code",
      "source": "import matplotlib.pyplot as plt\n#plot histogram on selected coulums\nplt.hist(iris_df[\"sepal.length\"], color= \"red\")",
      "metadata": {
        "trusted": true
      },
      "outputs": [
        {
          "execution_count": 39,
          "output_type": "execute_result",
          "data": {
            "text/plain": "(array([ 9., 23., 14., 27., 16., 26., 18.,  6.,  5.,  6.]),\n array([4.3 , 4.66, 5.02, 5.38, 5.74, 6.1 , 6.46, 6.82, 7.18, 7.54, 7.9 ]),\n <BarContainer object of 10 artists>)"
          },
          "metadata": {}
        },
        {
          "output_type": "display_data",
          "data": {
            "text/plain": "<Figure size 640x480 with 1 Axes>",
            "image/png": "[encoded data removed]"
          },
          "metadata": {}
        }
      ],
      "execution_count": 39
    },
    {
      "cell_type": "code",
      "source": "",
      "metadata": {
        "trusted": true
      },
      "outputs": [],
      "execution_count": null
    }
  ]
}