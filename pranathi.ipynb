{
  "metadata": {
    "kernelspec": {
      "name": "python",
      "display_name": "Python (Pyodide)",
      "language": "python"
    },
    "language_info": {
      "codemirror_mode": {
        "name": "python",
        "version": 3
      },
      "file_extension": ".py",
      "mimetype": "text/x-python",
      "name": "python",
      "nbconvert_exporter": "python",
      "pygments_lexer": "ipython3",
      "version": "3.8"
    }
  },
  "nbformat_minor": 4,
  "nbformat": 4,
  "cells": [
    {
      "cell_type": "code",
      "source": "scores = {'Virat': 90, 'Rohit':100, 'Rahul':70, 'Hardik':110, 'Siraz':90}\nprint(scores)",
      "metadata": {
        "trusted": true
      },
      "outputs": [
        {
          "name": "stdout",
          "text": "{'Virat': 90, 'Rohit': 100, 'Rahul': 70, 'Hardik': 110, 'Siraz': 90}\n",
          "output_type": "stream"
        }
      ],
      "execution_count": 3
    },
    {
      "cell_type": "code",
      "source": "scores[\"Aswin\"]=15\nscores",
      "metadata": {
        "trusted": true
      },
      "outputs": [
        {
          "execution_count": 4,
          "output_type": "execute_result",
          "data": {
            "text/plain": "{'Virat': 90,\n 'Rohit': 100,\n 'Rahul': 70,\n 'Hardik': 110,\n 'Siraz': 90,\n 'Aswin': 15}"
          },
          "metadata": {}
        }
      ],
      "execution_count": 4
    },
    {
      "cell_type": "code",
      "source": "scores.update({\"Rahul\":50})\nscores",
      "metadata": {
        "trusted": true
      },
      "outputs": [
        {
          "execution_count": 6,
          "output_type": "execute_result",
          "data": {
            "text/plain": "{'Virat': 90,\n 'Rohit': 100,\n 'Rahul': 50,\n 'Hardik': 110,\n 'Siraz': 90,\n 'Aswin': 15,\n 'Jadeja': 50}"
          },
          "metadata": {}
        }
      ],
      "execution_count": 6
    },
    {
      "cell_type": "code",
      "source": "list1 = [\"A\", \"B\", \"C\", \"D\"]\nmy_dict = dict.fromkeys(list1,10)\nmy_dict",
      "metadata": {
        "trusted": true
      },
      "outputs": [
        {
          "execution_count": 7,
          "output_type": "execute_result",
          "data": {
            "text/plain": "{'A': 10, 'B': 10, 'C': 10, 'D': 10}"
          },
          "metadata": {}
        }
      ],
      "execution_count": 7
    },
    {
      "cell_type": "code",
      "source": "scores_list = []\nfor v in scores.values():\n    scores_list.append(v)\nprint(scores_list)\nprint(\"Total Score: \", sum(scores_list))",
      "metadata": {
        "trusted": true
      },
      "outputs": [
        {
          "name": "stdout",
          "text": "[90, 100, 50, 110, 90, 15, 50]\nTotal Score:  505\n",
          "output_type": "stream"
        }
      ],
      "execution_count": 8
    },
    {
      "cell_type": "code",
      "source": "",
      "metadata": {
        "trusted": true
      },
      "outputs": [],
      "execution_count": null
    }
  ]
}