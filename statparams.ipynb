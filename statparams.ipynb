{
 "cells": [
  {
   "cell_type": "code",
   "execution_count": 3,
   "id": "d748d8b4-3fca-44f3-9f25-e021ba7c8c2e",
   "metadata": {},
   "outputs": [
    {
     "name": "stdout",
     "output_type": "stream",
     "text": [
      "Mean value: 7.4\n"
     ]
    }
   ],
   "source": [
    "def mean_value(values):\n",
    "    if not values:\n",
    "        return none\n",
    "    return sum(values)/len(values)\n",
    "numbers=[12,2,9,8,6]\n",
    "calculate_value= mean_value(numbers)\n",
    "print(f\"Mean value: {calculate_value}\")"
   ]
  },
  {
   "cell_type": "code",
   "execution_count": 5,
   "id": "f57624f3-6839-4039-9206-407eb6b1136a",
   "metadata": {},
   "outputs": [],
   "source": [
    "def mode_value(L):\n",
    "    s = set(L)\n",
    "    d = {}\n",
    "    for x in s:\n",
    "        d[x] =L.count(x)\n",
    "    return (max(d.values()))"
   ]
  },
  {
   "cell_type": "code",
   "execution_count": 7,
   "id": "7fba2f50-6fef-4608-b959-236d179427f2",
   "metadata": {},
   "outputs": [
    {
     "data": {
      "text/plain": [
       "3"
      ]
     },
     "execution_count": 7,
     "metadata": {},
     "output_type": "execute_result"
    }
   ],
   "source": [
    "L=[\"M\",\"M\",\"F\",\"M\",\"F\"]\n",
    "mode_value(L)"
   ]
  },
  {
   "cell_type": "code",
   "execution_count": 9,
   "id": "4c82973c-819b-4700-8547-2b08e220f108",
   "metadata": {},
   "outputs": [],
   "source": [
    "def mode_value(L):\n",
    "    s = set(L)\n",
    "    d = {}\n",
    "    for x in s:\n",
    "        d[x] =L.count(x)\n",
    "    m = (max(d.values()))\n",
    "    for k in d.keys():\n",
    "        if d[k] == m:\n",
    "            return k"
   ]
  },
  {
   "cell_type": "code",
   "execution_count": 13,
   "id": "b1a0a9d1-dc9a-4526-9094-636d81d76263",
   "metadata": {},
   "outputs": [
    {
     "data": {
      "text/plain": [
       "2"
      ]
     },
     "execution_count": 13,
     "metadata": {},
     "output_type": "execute_result"
    }
   ],
   "source": [
    "L=[1,2,3,4,1,2,1,2,3,2]\n",
    "mode_value(L)"
   ]
  },
  {
   "cell_type": "code",
   "execution_count": null,
   "id": "473cead1-cb64-460b-b0e2-875e1100bd66",
   "metadata": {},
   "outputs": [],
   "source": []
  }
 ],
 "metadata": {
  "kernelspec": {
   "display_name": "Python [conda env:base] *",
   "language": "python",
   "name": "conda-base-py"
  },
  "language_info": {
   "codemirror_mode": {
    "name": "ipython",
    "version": 3
   },
   "file_extension": ".py",
   "mimetype": "text/x-python",
   "name": "python",
   "nbconvert_exporter": "python",
   "pygments_lexer": "ipython3",
   "version": "3.12.7"
  }
 },
 "nbformat": 4,
 "nbformat_minor": 5
}
